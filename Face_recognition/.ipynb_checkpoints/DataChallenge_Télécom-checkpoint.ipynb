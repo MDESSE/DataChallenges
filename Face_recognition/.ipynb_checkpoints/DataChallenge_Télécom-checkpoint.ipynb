{
 "cells": [
  {
   "cell_type": "markdown",
   "metadata": {
    "toc": true
   },
   "source": [
    "<h1>Table of Contents<span class=\"tocSkip\"></span></h1>\n",
    "<div class=\"toc\"><ul class=\"toc-item\"><li><span><a href=\"#Basics-algorithms\" data-toc-modified-id=\"Basics-algorithms-1\"><span class=\"toc-item-num\">1&nbsp;&nbsp;</span>Basics algorithms</a></span><ul class=\"toc-item\"><li><span><a href=\"#Logistic-Regression\" data-toc-modified-id=\"Logistic-Regression-1.1\"><span class=\"toc-item-num\">1.1&nbsp;&nbsp;</span>Logistic Regression</a></span></li><li><span><a href=\"#Random-Forest\" data-toc-modified-id=\"Random-Forest-1.2\"><span class=\"toc-item-num\">1.2&nbsp;&nbsp;</span>Random Forest</a></span></li><li><span><a href=\"#SVC\" data-toc-modified-id=\"SVC-1.3\"><span class=\"toc-item-num\">1.3&nbsp;&nbsp;</span>SVC</a></span></li></ul></li><li><span><a href=\"#Boosting-method\" data-toc-modified-id=\"Boosting-method-2\"><span class=\"toc-item-num\">2&nbsp;&nbsp;</span>Boosting method</a></span><ul class=\"toc-item\"><li><span><a href=\"#XGBoost\" data-toc-modified-id=\"XGBoost-2.1\"><span class=\"toc-item-num\">2.1&nbsp;&nbsp;</span>XGBoost</a></span></li><li><span><a href=\"#LightGBoost\" data-toc-modified-id=\"LightGBoost-2.2\"><span class=\"toc-item-num\">2.2&nbsp;&nbsp;</span>LightGBoost</a></span></li><li><span><a href=\"#Catboost\" data-toc-modified-id=\"Catboost-2.3\"><span class=\"toc-item-num\">2.3&nbsp;&nbsp;</span>Catboost</a></span></li></ul></li><li><span><a href=\"#Cross-Validation\" data-toc-modified-id=\"Cross-Validation-3\"><span class=\"toc-item-num\">3&nbsp;&nbsp;</span>Cross Validation</a></span></li><li><span><a href=\"#Scoring-estimation\" data-toc-modified-id=\"Scoring-estimation-4\"><span class=\"toc-item-num\">4&nbsp;&nbsp;</span>Scoring estimation</a></span></li><li><span><a href=\"#Submission\" data-toc-modified-id=\"Submission-5\"><span class=\"toc-item-num\">5&nbsp;&nbsp;</span>Submission</a></span></li></ul></div>"
   ]
  },
  {
   "cell_type": "markdown",
   "metadata": {
    "colab_type": "text",
    "id": "Xp8AF0iXWU41"
   },
   "source": [
    "# Data Challenge - Télécom Paris"
   ]
  },
  {
   "cell_type": "markdown",
   "metadata": {
    "colab_type": "text",
    "id": "c2wSCdDPc5ay"
   },
   "source": [
    "# Pre-porcessing"
   ]
  },
  {
   "cell_type": "code",
   "execution_count": 1,
   "metadata": {
    "colab": {
     "base_uri": "https://localhost:8080/",
     "height": 129
    },
    "colab_type": "code",
    "id": "8GEkz945dTFt",
    "outputId": "eda5f64b-8910-4f94-c6fe-170a5619e051"
   },
   "outputs": [
    {
     "name": "stdout",
     "output_type": "stream",
     "text": [
      "Go to this URL in a browser: https://accounts.google.com/o/oauth2/auth?client_id=947318989803-6bn6qk8qdgf4n4g3pfee6491hc0brc4i.apps.googleusercontent.com&redirect_uri=urn%3aietf%3awg%3aoauth%3a2.0%3aoob&response_type=code&scope=email%20https%3a%2f%2fwww.googleapis.com%2fauth%2fdocs.test%20https%3a%2f%2fwww.googleapis.com%2fauth%2fdrive%20https%3a%2f%2fwww.googleapis.com%2fauth%2fdrive.photos.readonly%20https%3a%2f%2fwww.googleapis.com%2fauth%2fpeopleapi.readonly\n",
      "\n",
      "Enter your authorization code:\n",
      "··········\n",
      "Mounted at /content/drive/\n"
     ]
    }
   ],
   "source": [
    "from google.colab import drive\n",
    "import os\n",
    "drive.mount('/content/drive/')"
   ]
  },
  {
   "cell_type": "code",
   "execution_count": 0,
   "metadata": {
    "colab": {},
    "colab_type": "code",
    "id": "cZnxVq73XQxB"
   },
   "outputs": [],
   "source": [
    "import os\n",
    "PATH_TO_GOOGLE_DRIVE_FOLDER = '/content/drive/My Drive/05_Datachallenge'\n",
    "os.chdir(PATH_TO_GOOGLE_DRIVE_FOLDER)"
   ]
  },
  {
   "cell_type": "code",
   "execution_count": 10,
   "metadata": {
    "colab": {},
    "colab_type": "code",
    "id": "H_Rpp-_-T6OH"
   },
   "outputs": [],
   "source": [
    "import pandas as pd\n",
    "import numpy as np\n",
    "\n",
    "from sklearn.model_selection import train_test_split\n",
    "from sklearn.linear_model import LogisticRegression\n",
    "\n",
    "from sklearn.ensemble import RandomForestClassifier\n",
    "from sklearn.model_selection import GridSearchCV\n",
    "#from sklearn.model_selection import ShuffleSplit\n",
    "\n",
    "from sklearn.preprocessing import StandardScaler\n",
    "from sklearn import preprocessing"
   ]
  },
  {
   "cell_type": "code",
   "execution_count": 11,
   "metadata": {
    "colab": {},
    "colab_type": "code",
    "id": "Q0WFt_vkW4Eg"
   },
   "outputs": [],
   "source": [
    "path = \"01_data/\"\n",
    "data1 = \"xtrain_challenge.csv\"\n",
    "data2 = \"ytrain_challenge.csv\"\n",
    "data3 = \"xtest_challenge.csv\""
   ]
  },
  {
   "cell_type": "code",
   "execution_count": 20,
   "metadata": {
    "colab": {
     "base_uri": "https://localhost:8080/",
     "height": 35
    },
    "colab_type": "code",
    "id": "6gdPAPLaWIZh",
    "outputId": "13414628-4722-4547-9422-8b745326ccd3"
   },
   "outputs": [
    {
     "data": {
      "text/plain": [
       "((800000, 37), (800000,))"
      ]
     },
     "execution_count": 20,
     "metadata": {},
     "output_type": "execute_result"
    }
   ],
   "source": [
    "nrows_max = 1000000\n",
    "#X = pd.read_csv(path+data1, nrows=nrows_max)\n",
    "#y = pd.read_csv(path+data2, nrows=nrows_max)\n",
    "#X.head(5)\n",
    "X = np.loadtxt(path+data1, delimiter=',', skiprows = 1, max_rows = nrows_max)\n",
    "y = np.loadtxt(path+data2, delimiter=',', skiprows = 1, max_rows = nrows_max)\n",
    "y = np.array(y).reshape(nrows_max)\n",
    "\n",
    "#X = preprocessing.scale(X)\n",
    "X_train, X_test, y_train, y_test = train_test_split(X, y, test_size=0.20, random_state=0)\n",
    "X_train.shape, y_train.shape"
   ]
  },
  {
   "cell_type": "markdown",
   "metadata": {
    "colab_type": "text",
    "id": "xlWt0y2KEoti"
   },
   "source": [
    "## Basics algorithms"
   ]
  },
  {
   "cell_type": "markdown",
   "metadata": {
    "colab_type": "text",
    "id": "IpD_Um35dQ4K"
   },
   "source": [
    "### Logistic Regression"
   ]
  },
  {
   "cell_type": "code",
   "execution_count": 0,
   "metadata": {
    "colab": {
     "base_uri": "https://localhost:8080/",
     "height": 109
    },
    "colab_type": "code",
    "id": "YU19UOrzp8l8",
    "outputId": "2174bc9e-7477-4fa0-826b-dd4315812da2"
   },
   "outputs": [
    {
     "data": {
      "text/plain": [
       "LogisticRegression(C=1.0, class_weight=None, dual=False, fit_intercept=True,\n",
       "                   intercept_scaling=1, l1_ratio=None, max_iter=10000,\n",
       "                   multi_class='auto', n_jobs=None, penalty='l2',\n",
       "                   random_state=None, solver='lbfgs', tol=0.0001, verbose=0,\n",
       "                   warm_start=False)"
      ]
     },
     "execution_count": 9,
     "metadata": {
      "tags": []
     },
     "output_type": "execute_result"
    }
   ],
   "source": [
    "# Train the classifier on a part of the data set\n",
    "clf = LogisticRegression(penalty='l2', solver='lbfgs', max_iter=10000)\n",
    "clf.fit(X_train, y_train)"
   ]
  },
  {
   "cell_type": "code",
   "execution_count": 0,
   "metadata": {
    "colab": {},
    "colab_type": "code",
    "id": "YWsyWG7vpa09"
   },
   "outputs": [],
   "source": [
    " param_grid = { \n",
    "            'penalty'      : ['none','l2'],\n",
    "            'tol'      : [10**(-4)],\n",
    "            'max_iter' : [100, 1000, 10000],\n",
    "            'solver': ['lbfgs', 'sag'],\n",
    "            }"
   ]
  },
  {
   "cell_type": "markdown",
   "metadata": {
    "colab_type": "text",
    "id": "9ei5H19kdY7Y"
   },
   "source": [
    "### Random Forest"
   ]
  },
  {
   "cell_type": "code",
   "execution_count": 0,
   "metadata": {
    "colab": {
     "base_uri": "https://localhost:8080/",
     "height": 185
    },
    "colab_type": "code",
    "id": "91AG-iejWGB7",
    "outputId": "3384af46-8980-423c-8827-a088fb79f376"
   },
   "outputs": [
    {
     "data": {
      "text/plain": [
       "RandomForestClassifier(bootstrap=True, ccp_alpha=0.0, class_weight=None,\n",
       "                       criterion='gini', max_depth=10, max_features='auto',\n",
       "                       max_leaf_nodes=None, max_samples=None,\n",
       "                       min_impurity_decrease=0.0, min_impurity_split=None,\n",
       "                       min_samples_leaf=1, min_samples_split=2,\n",
       "                       min_weight_fraction_leaf=0.0, n_estimators=100,\n",
       "                       n_jobs=None, oob_score=False, random_state=0, verbose=0,\n",
       "                       warm_start=False)"
      ]
     },
     "execution_count": 269,
     "metadata": {
      "tags": []
     },
     "output_type": "execute_result"
    }
   ],
   "source": [
    "clf = RandomForestClassifier(n_estimators=100, max_depth=10, random_state=0)\n",
    "clf.fit(X, y)"
   ]
  },
  {
   "cell_type": "code",
   "execution_count": 17,
   "metadata": {
    "colab": {},
    "colab_type": "code",
    "id": "KC_eqlqS9NqL"
   },
   "outputs": [],
   "source": [
    " param_grid = { \n",
    "            'n_estimators' : [200, 500, 1000],\n",
    "            'criterion': ['gini'],\n",
    "            'max_depth' : [3, 5],\n",
    "            'bootstrap' : [True]\n",
    "            }"
   ]
  },
  {
   "cell_type": "markdown",
   "metadata": {},
   "source": [
    "### SVC"
   ]
  },
  {
   "cell_type": "code",
   "execution_count": 21,
   "metadata": {},
   "outputs": [],
   "source": [
    "from sklearn.svm import SVC\n",
    "svc = SVC(C=10, kernel='poly', gamma='scale', probability=True, tol=0.001, verbose=True, \n",
    "                      max_iter=-1, random_state=1234)"
   ]
  },
  {
   "cell_type": "code",
   "execution_count": null,
   "metadata": {},
   "outputs": [
    {
     "name": "stdout",
     "output_type": "stream",
     "text": [
      "[LibSVM]"
     ]
    }
   ],
   "source": [
    "svc.fit(X_train, y_train)"
   ]
  },
  {
   "cell_type": "markdown",
   "metadata": {
    "colab_type": "text",
    "id": "RZzWz8MnEZL-"
   },
   "source": [
    "## Boosting method"
   ]
  },
  {
   "cell_type": "code",
   "execution_count": 0,
   "metadata": {
    "colab": {},
    "colab_type": "code",
    "id": "GSb-gbRTGOYz"
   },
   "outputs": [],
   "source": [
    "from xgboost import XGBClassifier\n",
    "from lightgbm import LGBMClassifier\n",
    "from catboost import CatBoostClassifier"
   ]
  },
  {
   "cell_type": "markdown",
   "metadata": {
    "colab_type": "text",
    "id": "sas5MEY9EcX1"
   },
   "source": [
    "### XGBoost"
   ]
  },
  {
   "cell_type": "code",
   "execution_count": 0,
   "metadata": {
    "colab": {},
    "colab_type": "code",
    "id": "eYmRSaiiGLzA"
   },
   "outputs": [],
   "source": [
    "xgb = XGBClassifier(verbose=True, n_estimators=50, learning_rate=0.8, n_jobs=-1)\n",
    "%time xgb.fit(Xtrain_oh[:, cols_to_keep], ytrain)"
   ]
  },
  {
   "cell_type": "markdown",
   "metadata": {
    "colab_type": "text",
    "id": "OBQML3oiF3sq"
   },
   "source": [
    "### LightGBoost"
   ]
  },
  {
   "cell_type": "code",
   "execution_count": 0,
   "metadata": {
    "colab": {},
    "colab_type": "code",
    "id": "FjvtZmihFcsj"
   },
   "outputs": [],
   "source": [
    "lgbm = LGBMClassifier(objective='multiclass', random_state=5)\n",
    "\n",
    "#lgbm.fit(X, y)\n",
    "\n",
    "#y_pred = lgbm.predict(X_test)"
   ]
  },
  {
   "cell_type": "markdown",
   "metadata": {
    "colab_type": "text",
    "id": "HP6ozFymGnnE"
   },
   "source": [
    "### Catboost"
   ]
  },
  {
   "cell_type": "code",
   "execution_count": 0,
   "metadata": {
    "colab": {},
    "colab_type": "code",
    "id": "CCdiPNE-Gqpu"
   },
   "outputs": [],
   "source": [
    "       clf = CatBoostClassifier(iterations=500,\n",
    "                                loss_function = param['loss_function'],\n",
    "                                depth=param['depth'],\n",
    "                                l2_leaf_reg = param['l2_leaf_reg'],\n",
    "                                eval_metric = 'Accuracy',\n",
    "                                leaf_estimation_iterations = 10,\n",
    "                                use_best_model=True,\n",
    "                                logging_level='Silent'\n",
    "        )\n",
    "        \n",
    "        clf.fit(X_train, \n",
    "                y_train,\n",
    "                cat_features=cat_features,\n",
    "                eval_set=(X_valid, y_valid)\n",
    "        )\n",
    "        \n",
    "        y_pred = clf.predict(X_valid)\n",
    "        accuracy = accuracy_score(y_valid, y_pred)\n",
    "        acc.append(accuracy)"
   ]
  },
  {
   "cell_type": "markdown",
   "metadata": {
    "colab_type": "text",
    "id": "4SlMTDrVfJZL"
   },
   "source": [
    "## Cross Validation\n"
   ]
  },
  {
   "cell_type": "code",
   "execution_count": 18,
   "metadata": {
    "colab": {},
    "colab_type": "code",
    "id": "Z8k2iBeB-G-H"
   },
   "outputs": [],
   "source": [
    "estimator = RandomForestClassifier\n",
    "grid = param_grid"
   ]
  },
  {
   "cell_type": "code",
   "execution_count": 19,
   "metadata": {
    "colab": {},
    "colab_type": "code",
    "id": "q2Mm1omBnYSS"
   },
   "outputs": [],
   "source": [
    "def Grid_Search_CV(X_train, y_train, estimator, grid):\n",
    "    estimator = estimator()\n",
    "    param_grid = grid\n",
    "    grid = GridSearchCV(estimator, param_grid, cv=3) #, n_jobs=-1\n",
    "    grid.fit(X_train, y_train)\n",
    "\n",
    "    return grid.best_params_"
   ]
  },
  {
   "cell_type": "code",
   "execution_count": 20,
   "metadata": {
    "colab": {},
    "colab_type": "code",
    "id": "c0SpGmqjsEIV"
   },
   "outputs": [],
   "source": [
    "def best_model(X_train, X_test, y_train, y_test, estimator, best_params):\n",
    "    estimator = estimator(n_jobs=-1).set_params(**best_params)\n",
    "    estimator.fit(X_train,y_train)\n",
    "    yvalid = estimator.predict_proba(X_test)[:,estimator.classes_ == 1][:,0]\n",
    "    return yvalid"
   ]
  },
  {
   "cell_type": "code",
   "execution_count": null,
   "metadata": {
    "colab": {},
    "colab_type": "code",
    "id": "4rDO5iRMpRyi"
   },
   "outputs": [],
   "source": [
    "best_param = Grid_Search_CV(X_train, y_train, estimator ,param_grid)"
   ]
  },
  {
   "cell_type": "code",
   "execution_count": null,
   "metadata": {
    "colab": {
     "base_uri": "https://localhost:8080/",
     "height": 35
    },
    "colab_type": "code",
    "id": "cDY2WCMatQCb",
    "outputId": "56f610f8-c7c1-4e67-cd54-3e8870515339"
   },
   "outputs": [],
   "source": [
    "print(best_param)"
   ]
  },
  {
   "cell_type": "code",
   "execution_count": null,
   "metadata": {
    "colab": {},
    "colab_type": "code",
    "id": "3DF93LADtAnM"
   },
   "outputs": [],
   "source": [
    "yvalid = best_model(X_train, X_test, y_train, y_test, estimator, best_param)"
   ]
  },
  {
   "cell_type": "markdown",
   "metadata": {
    "colab_type": "text",
    "id": "d5YsdErBfOhc"
   },
   "source": [
    "## Scoring estimation"
   ]
  },
  {
   "cell_type": "code",
   "execution_count": 17,
   "metadata": {
    "colab": {
     "base_uri": "https://localhost:8080/",
     "height": 165
    },
    "colab_type": "code",
    "id": "NXQUlo46qQwk",
    "outputId": "1ed89feb-e67a-467d-9b6e-a71f071ca825"
   },
   "outputs": [
    {
     "data": {
      "text/plain": [
       "array([0.00166554, 0.00363999, 0.00097249, ..., 0.00067153, 0.00108505,\n",
       "       0.00171277])"
      ]
     },
     "execution_count": 17,
     "metadata": {},
     "output_type": "execute_result"
    }
   ],
   "source": [
    "# Check its on another part of the data set\n",
    "yvalid = svc.predict_proba(X_test)[:,svc.classes_ == 1][:,0]\n",
    "yvalid"
   ]
  },
  {
   "cell_type": "code",
   "execution_count": 18,
   "metadata": {
    "colab": {},
    "colab_type": "code",
    "id": "TXSr8BVThJzk"
   },
   "outputs": [],
   "source": [
    " def score(y_test): \n",
    "  #N = np.sum(y_test == 0)\n",
    "  #P = np.sum(y_test == 1)\n",
    "  \n",
    "  nrows = y_test.shape[0]\n",
    "  yvalid_scoreordered = y_test[np.argsort(yvalid)]\n",
    "  P = np.count_nonzero(y_test)\n",
    "  N = nrows - P\n",
    "\n",
    "  FP = 0\n",
    "  TP = 0\n",
    "  for i in range(nrows -1, -1, -1):\n",
    "      if (yvalid_scoreordered[i] == 1):\n",
    "        #print(\"itération %d\" %i)\n",
    "        TP = TP + 1\n",
    "        #print(\"nb TP %d\" %TP)\n",
    "        #print(\"nb FP %d\" %FP)\n",
    "        #print(\"denis %f\", FP/N)\n",
    "      else:\n",
    "          FP = P + 1\n",
    "      if (FP / N > 10**-4):\n",
    "          FP = FP - 1\n",
    "          break\n",
    "  print(\"For the smallest FPR <= 10^-4 (i.e., \", FP / N, \") TPR = \", TP / P, \".\", sep = \"\")"
   ]
  },
  {
   "cell_type": "code",
   "execution_count": 19,
   "metadata": {
    "colab": {
     "base_uri": "https://localhost:8080/",
     "height": 35
    },
    "colab_type": "code",
    "id": "pZ6Y8c5h9WiH",
    "outputId": "6b4fe321-5b30-404d-dc64-094f76bea7e7"
   },
   "outputs": [
    {
     "name": "stdout",
     "output_type": "stream",
     "text": [
      "For the smallest FPR <= 10^-4 (i.e., 0.07422924051992695) TPR = 0.8892908827785818.\n"
     ]
    }
   ],
   "source": [
    "score(y_test)"
   ]
  },
  {
   "cell_type": "markdown",
   "metadata": {
    "colab_type": "text",
    "id": "iGb-4n0nfysR"
   },
   "source": [
    "## Submission"
   ]
  },
  {
   "cell_type": "code",
   "execution_count": 0,
   "metadata": {
    "colab": {
     "base_uri": "https://localhost:8080/",
     "height": 248
    },
    "colab_type": "code",
    "id": "b1rwfb9Qf2Dx",
    "outputId": "3fec38e3-d9e5-4c80-8baa-2f7afff6c160"
   },
   "outputs": [
    {
     "name": "stdout",
     "output_type": "stream",
     "text": [
      "(3768311,)\n"
     ]
    },
    {
     "ename": "UFuncTypeError",
     "evalue": "ignored",
     "output_type": "error",
     "traceback": [
      "\u001b[0;31m---------------------------------------------------------------------------\u001b[0m",
      "\u001b[0;31mUFuncTypeError\u001b[0m                            Traceback (most recent call last)",
      "\u001b[0;32m<ipython-input-25-fcdf832cef1e>\u001b[0m in \u001b[0;36m<module>\u001b[0;34m()\u001b[0m\n\u001b[1;32m      6\u001b[0m \u001b[0mdate\u001b[0m \u001b[0;34m=\u001b[0m \u001b[0mnp\u001b[0m\u001b[0;34m.\u001b[0m\u001b[0mdatetime64\u001b[0m\u001b[0;34m(\u001b[0m\u001b[0;34m'today'\u001b[0m\u001b[0;34m,\u001b[0m \u001b[0;34m'D'\u001b[0m\u001b[0;34m)\u001b[0m\u001b[0;34m\u001b[0m\u001b[0;34m\u001b[0m\u001b[0m\n\u001b[1;32m      7\u001b[0m \u001b[0mmodel\u001b[0m \u001b[0;34m=\u001b[0m \u001b[0;34m'-logistic_regression'\u001b[0m\u001b[0;34m\u001b[0m\u001b[0;34m\u001b[0m\u001b[0m\n\u001b[0;32m----> 8\u001b[0;31m \u001b[0msaving_name\u001b[0m \u001b[0;34m=\u001b[0m \u001b[0mdate\u001b[0m\u001b[0;34m+\u001b[0m\u001b[0mmodel\u001b[0m\u001b[0;34m\u001b[0m\u001b[0;34m\u001b[0m\u001b[0m\n\u001b[0m\u001b[1;32m      9\u001b[0m \u001b[0;31m#np.savetxt(, ytest, fmt = '%1.15f', delimiter=',')\u001b[0m\u001b[0;34m\u001b[0m\u001b[0;34m\u001b[0m\u001b[0;34m\u001b[0m\u001b[0m\n",
      "\u001b[0;31mUFuncTypeError\u001b[0m: ufunc 'add' cannot use operands with types dtype('<M8[D]') and dtype('<U20')"
     ]
    }
   ],
   "source": [
    "# Load test data\n",
    "xtest = np.loadtxt(path+data3, delimiter=',', skiprows = 1)\n",
    "\n",
    "# Classify the provided test data\n",
    "ytest = clf.predict_proba(xtest)[:,clf.classes_ == 1][:,0]\n",
    "print(ytest.shape)\n",
    "date = str(np.datetime64('today', 'D'))\n",
    "model = '-logistic_regression'\n",
    "saving_name = date+model\n",
    "#np.savetxt(, ytest, fmt = '%1.15f', delimiter=',')"
   ]
  },
  {
   "cell_type": "code",
   "execution_count": 0,
   "metadata": {
    "colab": {},
    "colab_type": "code",
    "id": "voFiiAKFld_h"
   },
   "outputs": [],
   "source": []
  },
  {
   "cell_type": "markdown",
   "metadata": {
    "colab_type": "text",
    "id": "9FLs0qsNw2xb"
   },
   "source": [
    "Thuysse de l'archi :\n",
    " - function ClickConnect(){\n",
    "console.log(\"Working\"); \n",
    "document.querySelector(\"colab-toolbar-button#connect\").click() \n",
    "}\n",
    "setInterval(ClickConnect,60000)"
   ]
  },
  {
   "cell_type": "code",
   "execution_count": 0,
   "metadata": {
    "colab": {},
    "colab_type": "code",
    "id": "7I-JKaeyw5N7"
   },
   "outputs": [],
   "source": []
  }
 ],
 "metadata": {
  "accelerator": "TPU",
  "colab": {
   "collapsed_sections": [
    "IpD_Um35dQ4K",
    "RZzWz8MnEZL-",
    "sas5MEY9EcX1",
    "OBQML3oiF3sq",
    "HP6ozFymGnnE"
   ],
   "name": "DataChallenge-Télécom.ipynb",
   "provenance": [],
   "toc_visible": true
  },
  "kernelspec": {
   "display_name": "Python 3",
   "language": "python",
   "name": "python3"
  },
  "language_info": {
   "codemirror_mode": {
    "name": "ipython",
    "version": 3
   },
   "file_extension": ".py",
   "mimetype": "text/x-python",
   "name": "python",
   "nbconvert_exporter": "python",
   "pygments_lexer": "ipython3",
   "version": "3.7.4"
  },
  "latex_envs": {
   "LaTeX_envs_menu_present": true,
   "autoclose": false,
   "autocomplete": true,
   "bibliofile": "biblio.bib",
   "cite_by": "apalike",
   "current_citInitial": 1,
   "eqLabelWithNumbers": true,
   "eqNumInitial": 1,
   "hotkeys": {
    "equation": "Ctrl-E",
    "itemize": "Ctrl-I"
   },
   "labels_anchors": false,
   "latex_user_defs": false,
   "report_style_numbering": false,
   "user_envs_cfg": false
  },
  "toc": {
   "base_numbering": 1,
   "nav_menu": {},
   "number_sections": true,
   "sideBar": true,
   "skip_h1_title": true,
   "title_cell": "Table of Contents",
   "title_sidebar": "Contents",
   "toc_cell": true,
   "toc_position": {},
   "toc_section_display": true,
   "toc_window_display": true
  },
  "varInspector": {
   "cols": {
    "lenName": 16,
    "lenType": 16,
    "lenVar": 40
   },
   "kernels_config": {
    "python": {
     "delete_cmd_postfix": "",
     "delete_cmd_prefix": "del ",
     "library": "var_list.py",
     "varRefreshCmd": "print(var_dic_list())"
    },
    "r": {
     "delete_cmd_postfix": ") ",
     "delete_cmd_prefix": "rm(",
     "library": "var_list.r",
     "varRefreshCmd": "cat(var_dic_list()) "
    }
   },
   "types_to_exclude": [
    "module",
    "function",
    "builtin_function_or_method",
    "instance",
    "_Feature"
   ],
   "window_display": false
  }
 },
 "nbformat": 4,
 "nbformat_minor": 1
}
